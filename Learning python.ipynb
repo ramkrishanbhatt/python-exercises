{
 "cells": [
  {
   "cell_type": "code",
   "execution_count": 1,
   "metadata": {},
   "outputs": [
    {
     "name": "stdout",
     "output_type": "stream",
     "text": [
      "Downloading data from https://storage.googleapis.com/tensorflow/tf-keras-datasets/mnist.npz\n",
      "11493376/11490434 [==============================] - 6s 1us/step\n",
      "Epoch 1/5\n",
      "60000/60000 [==============================] - 15s 242us/step - loss: 0.2014 - acc: 0.9404\n",
      "Epoch 2/5\n",
      "60000/60000 [==============================] - 14s 238us/step - loss: 0.0830 - acc: 0.9743\n",
      "Epoch 3/5\n",
      "60000/60000 [==============================] - 14s 233us/step - loss: 0.0529 - acc: 0.9835\n",
      "Epoch 4/5\n",
      "60000/60000 [==============================] - 13s 223us/step - loss: 0.0383 - acc: 0.9877\n",
      "Epoch 5/5\n",
      "60000/60000 [==============================] - 13s 223us/step - loss: 0.0269 - acc: 0.9917\n",
      "10000/10000 [==============================] - 1s 66us/step\n"
     ]
    },
    {
     "data": {
      "text/plain": [
       "[0.06514524068705504, 0.9812]"
      ]
     },
     "execution_count": 1,
     "metadata": {},
     "output_type": "execute_result"
    }
   ],
   "source": [
    "import tensorflow as tf\n",
    "mnist = tf.keras.datasets.mnist\n",
    "\n",
    "(x_train, y_train),(x_test, y_test) = mnist.load_data()\n",
    "x_train, x_test = x_train / 255.0, x_test / 255.0\n",
    "\n",
    "model = tf.keras.models.Sequential([\n",
    "  tf.keras.layers.Flatten(),\n",
    "  tf.keras.layers.Dense(512, activation=tf.nn.relu),\n",
    "  tf.keras.layers.Dropout(0.2),\n",
    "  tf.keras.layers.Dense(10, activation=tf.nn.softmax)\n",
    "])\n",
    "model.compile(optimizer='adam',\n",
    "              loss='sparse_categorical_crossentropy',\n",
    "              metrics=['accuracy'])\n",
    "\n",
    "model.fit(x_train, y_train, epochs=5)\n",
    "model.evaluate(x_test, y_test)\n"
   ]
  },
  {
   "cell_type": "code",
   "execution_count": 9,
   "metadata": {},
   "outputs": [
    {
     "name": "stdout",
     "output_type": "stream",
     "text": [
      "Square:  4\n",
      "Quad: 16\n"
     ]
    }
   ],
   "source": [
    "import threading \n",
    "\n",
    "def calc_square(number):\n",
    "    print(\"Square: \", number*number)\n",
    "    \n",
    "\n",
    "def calc_quad(number):\n",
    "    print('Quad:' , number * number * number * number)\n",
    "    \n",
    "if __name__ == \"__main__\":\n",
    "    number = 2\n",
    "    \n",
    "thread1 = threading.Thread(target=calc_square, args=(number,))\n",
    "thread2 = threading.Thread(target=calc_quad, args=(number,))\n",
    "\n",
    "thread1.start()\n",
    "thread2.start()\n",
    "\n",
    "thread1.join()\n",
    "thread2.join()\n",
    "\n"
   ]
  },
  {
   "cell_type": "code",
   "execution_count": 15,
   "metadata": {},
   "outputs": [
    {
     "name": "stdout",
     "output_type": "stream",
     "text": [
      "Square: 49\n",
      "49\n",
      "Quad: 2401\n",
      "None\n"
     ]
    }
   ],
   "source": [
    "from timeit import timeit\n",
    "import multiprocessing\n",
    "\n",
    "def calc_square(number):\n",
    "    print('Square:' , number * number)\n",
    "    result = number * number\n",
    "    print(result)\n",
    "\n",
    "def calc_quad(number):\n",
    "    print('Quad:' , number * number * number * number)\n",
    "\n",
    "if __name__ == \"__main__\":\n",
    "    number = 7\n",
    "    result = None\n",
    "\n",
    "p1 = multiprocessing.Process(target=calc_square, args=(number,))\n",
    "p2 = multiprocessing.Process(target=calc_quad, args=(number,))\n",
    "\n",
    "p1.start()\n",
    "p2.start()\n",
    "\n",
    "p1.join()\n",
    "p2.join()\n",
    "    \n",
    "    # Wont print because processes run using their own memory location                     \n",
    "print(result)"
   ]
  },
  {
   "cell_type": "code",
   "execution_count": 8,
   "metadata": {},
   "outputs": [
    {
     "name": "stderr",
     "output_type": "stream",
     "text": [
      "/Users/ramakrishan/anaconda3/envs/venv/lib/python3.6/site-packages/urllib3/connectionpool.py:847: InsecureRequestWarning: Unverified HTTPS request is being made. Adding certificate verification is strongly advised. See: https://urllib3.readthedocs.io/en/latest/advanced-usage.html#ssl-warnings\n",
      "  InsecureRequestWarning)\n",
      "/Users/ramakrishan/anaconda3/envs/venv/lib/python3.6/site-packages/urllib3/connectionpool.py:847: InsecureRequestWarning: Unverified HTTPS request is being made. Adding certificate verification is strongly advised. See: https://urllib3.readthedocs.io/en/latest/advanced-usage.html#ssl-warnings\n",
      "  InsecureRequestWarning)\n"
     ]
    }
   ],
   "source": [
    "import urllib3\n",
    "http = urllib3.PoolManager()\n",
    "\n",
    "from multiprocessing.dummy import Pool as ThreadPool \n",
    "\n",
    "urls = [\n",
    "  'http://www.python.org', \n",
    "  'http://www.python.org/about/',\n",
    "  'http://www.onlamp.com/pub/a/python/2003/04/17/metaclasses.html',\n",
    "  'http://www.python.org/doc/',\n",
    "  'http://www.python.org/download/',\n",
    "  'http://www.python.org/getit/',\n",
    "  'http://www.python.org/community/',\n",
    "  'https://wiki.python.org/moin/',\n",
    "]\n",
    "\n",
    "# make the Pool of workers\n",
    "pool = ThreadPool(4) \n",
    "\n",
    "# open the urls in their own threads\n",
    "# and return the results\n",
    "\n",
    "results = http.request('GET','http://www.python.org/download/')\n",
    "\n",
    "# close the pool and wait for the work to finish \n",
    "pool.close() \n",
    "pool.join()"
   ]
  },
  {
   "cell_type": "code",
   "execution_count": 17,
   "metadata": {},
   "outputs": [
    {
     "name": "stdout",
     "output_type": "stream",
     "text": [
      "1\n",
      "2\n",
      "6\n",
      "24\n",
      "120\n",
      "720\n",
      "5040\n"
     ]
    }
   ],
   "source": [
    "def factorial(n):\n",
    "    count = 1\n",
    "    fact = 1\n",
    "\n",
    "    while count <= n:\n",
    "        yield fact\n",
    "        count = count + 1\n",
    "        fact = fact * count\n",
    "    \n",
    "for i in factorial(7):\n",
    "    print(i)"
   ]
  },
  {
   "cell_type": "code",
   "execution_count": 35,
   "metadata": {},
   "outputs": [
    {
     "name": "stdout",
     "output_type": "stream",
     "text": [
      "Something is happening before the function is called.\n",
      "Whee!\n",
      "Something is happening after the function is called.\n"
     ]
    }
   ],
   "source": [
    "def my_decorator(foo):\n",
    "    def wrapper():\n",
    "        print(\"Something is happening before the function is called.\")\n",
    "        foo()\n",
    "        print(\"Something is happening after the function is called.\")\n",
    "    return wrapper\n",
    "\n",
    "@my_decorator\n",
    "def say_whee():\n",
    "    print(\"Whee!\")\n",
    "    \n",
    "    \n",
    "say_whee()"
   ]
  },
  {
   "cell_type": "code",
   "execution_count": 33,
   "metadata": {},
   "outputs": [
    {
     "name": "stdout",
     "output_type": "stream",
     "text": [
      "Looking for python\n",
      "I am python\n"
     ]
    }
   ],
   "source": [
    "def grep(pattern):\n",
    " print(\"Looking for %s\" % pattern)\n",
    " while True:\n",
    "     line = (yield)\n",
    "     if pattern in line:\n",
    "         print(line)\n",
    "\n",
    "g = grep(\"python\")\n",
    "g.__next__()\n",
    "\n",
    "g.send(\"hello world\")\n",
    "g.send(\"ramkrishan\")\n",
    "g.send(\"I am python\")"
   ]
  },
  {
   "cell_type": "code",
   "execution_count": 36,
   "metadata": {},
   "outputs": [
    {
     "name": "stdout",
     "output_type": "stream",
     "text": [
      "Geek1 False\n",
      "Geek2 True\n"
     ]
    }
   ],
   "source": [
    "class Person(object): \n",
    "      \n",
    "    # Constructor \n",
    "    def __init__(self, name): \n",
    "        self.name = name \n",
    "  \n",
    "    # To get name \n",
    "    def getName(self): \n",
    "        return self.name \n",
    "  \n",
    "    # To check if this person is employee \n",
    "    def isEmployee(self): \n",
    "        return False\n",
    "  \n",
    "  \n",
    "# Inherited or Sub class (Note Person in bracket) \n",
    "class Employee(Person): \n",
    "  \n",
    "    # Here we return true \n",
    "    def isEmployee(self): \n",
    "        return True\n",
    "  \n",
    "# Driver code \n",
    "emp = Person(\"Geek1\")  # An Object of Person \n",
    "print(emp.getName(), emp.isEmployee()) \n",
    "  \n",
    "emp = Employee(\"Geek2\") # An Object of Employee \n",
    "print(emp.getName(), emp.isEmployee())"
   ]
  },
  {
   "cell_type": "code",
   "execution_count": 6,
   "metadata": {},
   "outputs": [
    {
     "name": "stdout",
     "output_type": "stream",
     "text": [
      "Base1\n",
      "Base2\n",
      "Derived\n",
      "Geek1 Geek2\n"
     ]
    }
   ],
   "source": [
    "class Base1(object): \n",
    "    def __init__(self): \n",
    "        self.str1 = \"Geek1\"\n",
    "        print (\"Base1\")\n",
    "\n",
    "class Base2(object): \n",
    "    def __init__(self): \n",
    "        self.str2 = \"Geek2\"\t\t\n",
    "        print (\"Base2\")\n",
    "\n",
    "class Derived(Base1, Base2): \n",
    "    def __init__(self): \n",
    "        Base1.__init__(self) \n",
    "        Base2.__init__(self) \n",
    "        print (\"Derived\")\n",
    "\n",
    "    def printStrs(self): \n",
    "        print(self.str1, self.str2) \n",
    "\n",
    "ob = Derived() \n",
    "ob.printStrs() \n"
   ]
  },
  {
   "cell_type": "code",
   "execution_count": 3,
   "metadata": {},
   "outputs": [
    {
     "name": "stdout",
     "output_type": "stream",
     "text": [
      "Inside wrap()\n",
      "After decoration\n",
      "Preparing to call sayHello()\n",
      "Inside wrapped_f()\n",
      "Decorator arguments: hello world 42\n",
      "sayHello arguments: say hello argument list\n",
      "After f(*args)\n",
      "after first sayHello() call\n",
      "Inside wrapped_f()\n",
      "Decorator arguments: hello world 42\n",
      "sayHello arguments: a different set of arguments\n",
      "After f(*args)\n",
      "after second sayHello() call\n"
     ]
    }
   ],
   "source": [
    "# PythonDecorators/decorator_function_with_arguments.py\n",
    "def decorator_function_with_arguments(arg1, arg2, arg3):\n",
    "    def wrap(f):\n",
    "        print(\"Inside wrap()\")\n",
    "        def wrapped_f(*args):\n",
    "            print(\"Inside wrapped_f()\")\n",
    "            print(\"Decorator arguments:\", arg1, arg2, arg3)\n",
    "            f(*args)\n",
    "            print(\"After f(*args)\")\n",
    "        return wrapped_f\n",
    "    return wrap\n",
    "\n",
    "@decorator_function_with_arguments(\"hello\", \"world\", 42)\n",
    "def sayHello(a1, a2, a3, a4):\n",
    "    print('sayHello arguments:', a1, a2, a3, a4)\n",
    "\n",
    "print(\"After decoration\")\n",
    "\n",
    "print(\"Preparing to call sayHello()\")\n",
    "sayHello(\"say\", \"hello\", \"argument\", \"list\")\n",
    "print(\"after first sayHello() call\")\n",
    "sayHello(\"a\", \"different\", \"set of\", \"arguments\")\n",
    "print(\"after second sayHello() call\")"
   ]
  },
  {
   "cell_type": "code",
   "execution_count": 5,
   "metadata": {},
   "outputs": [
    {
     "name": "stdout",
     "output_type": "stream",
     "text": [
      "5\n"
     ]
    }
   ],
   "source": [
    "lam = lambda x, y :x+y\n",
    "print(lam(2,3))"
   ]
  },
  {
   "cell_type": "code",
   "execution_count": 1,
   "metadata": {},
   "outputs": [
    {
     "name": "stdout",
     "output_type": "stream",
     "text": [
      "[(1, 2, 7), (1, 2, 7), (1, 9), (2, 8), (3, 7), (3, 7), (10,)]\n"
     ]
    }
   ],
   "source": [
    "import itertools\n",
    "numbers =[1,2,3,7,8,7,9,20,10]\n",
    "result = [seq for i in range(len(numbers),0,-1) for seq in itertools.combinations(numbers,i) if sum(seq)==10]\n",
    "print(result)"
   ]
  },
  {
   "cell_type": "code",
   "execution_count": 3,
   "metadata": {},
   "outputs": [
    {
     "name": "stdout",
     "output_type": "stream",
     "text": [
      "Human class constructor\n",
      "this is redefined __private variable Vasya\n",
      "Private method\n",
      "Protected method\n",
      "\n",
      "\n",
      "Human class constructor\n",
      "Male\n",
      "Protected method\n",
      "\n",
      "\n",
      "Human class constructor\n",
      "Female\n",
      "Protected method\n",
      "\n",
      "\n"
     ]
    }
   ],
   "source": [
    "class Human():\n",
    "    # __private - переменная\n",
    "    __privateVar = \"this is __private variable\"\n",
    "\n",
    "    def __init__(self):\n",
    "        self.className = \"Human class constructor\"\n",
    "        self.__privateVar = \"this is redefined __private variable\"\n",
    "\n",
    "    # public - доступен везде\n",
    "    def showName(self, name):\n",
    "        self.name = name\n",
    "        return self.__privateVar + \" \" + name\n",
    "\n",
    "    # __private - Доступен только в базовом классе\n",
    "    def __privateMethod(self):\n",
    "        return \"Private method\"\n",
    "\n",
    "    # _protected - Доступен в классах - наследниках\n",
    "    def _protectedMethod(self):\n",
    "        return \"Protected method\"\n",
    "\n",
    "    # __private - Доступен ТОЛЬКО из базового класса\n",
    "    def showPrivate(self):\n",
    "        return self.__privateMethod()\n",
    "\n",
    "    def showProtecded(self):\n",
    "        return self._protectedMethod()\n",
    "\n",
    "\n",
    "class Male(Human):\n",
    "    def showClassName(self):\n",
    "        return \"Male\"\n",
    "\n",
    "    def showPrivate(self):\n",
    "        return self.__privateMethod()\n",
    "\n",
    "    def showProtected(self):\n",
    "        return self._protectedMethod()\n",
    "\n",
    "\n",
    "class Female(Human):\n",
    "    def showClassName(self):\n",
    "        return \"Female\"\n",
    "\n",
    "    def showPrivate(self):\n",
    "        return self.__privateMethod()\n",
    "\n",
    "    def showProtected(self):\n",
    "        return self._protectedMethod()\n",
    "\n",
    "\n",
    "h = Human()\n",
    "print(h.className)\n",
    "print(h.showName(\"Vasya\"))\n",
    "print(h.showPrivate())\n",
    "print(h.showProtecded())\n",
    "# print(h.privateMethod())\n",
    "# print(h.protectedMethod())\n",
    "print(\"\\n\")\n",
    "\n",
    "m = Male()\n",
    "print(m.className)\n",
    "print(m.showClassName())\n",
    "# print(m.showPrivate())\n",
    "print(m.showProtected())\n",
    "print(\"\\n\")\n",
    "\n",
    "f = Female()\n",
    "print(f.className)\n",
    "print(f.showClassName())\n",
    "print(f.showProtected())\n",
    "print(\"\\n\")"
   ]
  },
  {
   "cell_type": "code",
   "execution_count": 4,
   "metadata": {},
   "outputs": [
    {
     "name": "stdout",
     "output_type": "stream",
     "text": [
      "Engine\n",
      "Vehicle\n",
      "\n",
      "\n",
      "Engine\n",
      "Vehicle\n",
      "\n",
      "\n",
      "Engine\n",
      "Vehicle\n",
      "\n",
      "\n",
      "Engine\n",
      "Vehicle\n",
      "\n",
      "\n"
     ]
    }
   ],
   "source": [
    "class Vehicles():\n",
    "    def engine(self):\n",
    "        return \"Engine\"\n",
    "\n",
    "    def attribute(self):\n",
    "        return \"Vehicle\"\n",
    "\n",
    "\n",
    "class Helicopter(Vehicles):\n",
    "    pass\n",
    "\n",
    "\n",
    "class Submarine(Vehicles):\n",
    "    pass\n",
    "\n",
    "\n",
    "class Car(Vehicles):\n",
    "    pass\n",
    "\n",
    "\n",
    "v = Vehicles()\n",
    "print(v.engine())\n",
    "print(v.attribute())\n",
    "print(\"\\n\")\n",
    "\n",
    "h = Helicopter()\n",
    "print(h.engine())\n",
    "print(h.attribute())\n",
    "print(\"\\n\")\n",
    "\n",
    "s = Submarine()\n",
    "print(s.engine())\n",
    "print(s.attribute())\n",
    "print(\"\\n\")\n",
    "\n",
    "c = Car()\n",
    "print(c.engine())\n",
    "print(c.attribute())\n",
    "print(\"\\n\")"
   ]
  },
  {
   "cell_type": "code",
   "execution_count": 5,
   "metadata": {},
   "outputs": [
    {
     "name": "stdout",
     "output_type": "stream",
     "text": [
      "Artillery Class constructor\n",
      "Artillery aprox. 1-30 km\n",
      "\n",
      "\n",
      "Artillery Class constructor\n",
      "Mortar 1 km\n",
      "\n",
      "\n",
      "Howitzer Class constructor\n",
      "4\n",
      "Howitzer Green 35 km\n",
      "\n",
      "\n",
      "Howitzer Class constructor\n",
      "4\n",
      "Howitzer Blue 35 km\n",
      "\n",
      "\n",
      "Artillery Class constructor\n",
      "Cannon 10 km\n",
      "\n",
      "\n"
     ]
    }
   ],
   "source": [
    "class Artillery():\n",
    "    def __init__(self):\n",
    "        self.className = \"Artillery Class constructor\"\n",
    "\n",
    "    def showName(self):\n",
    "        shootingRange = \"aprox. 1-30 km\"\n",
    "        return \"Artillery\" + \" \" + shootingRange\n",
    "\n",
    "\n",
    "class Mortar(Artillery):\n",
    "    def showName(self):\n",
    "        shootingRange = \"1 km\"\n",
    "        return \"Mortar\" + \" \" + shootingRange\n",
    "\n",
    "\n",
    "class Howitzer(Artillery):\n",
    "    def __init__(self):\n",
    "        self.className = \"Howitzer Class constructor\"\n",
    "        self.rndMath = 2 * 2\n",
    "\n",
    "    def showName(self, color=\"Green\"):\n",
    "        shootingRange = \"35 km\"\n",
    "        return \"Howitzer \" + color + \" \" + shootingRange\n",
    "\n",
    "\n",
    "class Cannon(Artillery):\n",
    "    def showName(self):\n",
    "        shootingRange = \"10 km\"\n",
    "        return \"Cannon\" + \" \" + shootingRange\n",
    "\n",
    "\n",
    "a = Artillery();\n",
    "print(a.className)\n",
    "print(a.showName())\n",
    "print(\"\\n\")\n",
    "\n",
    "m = Mortar();\n",
    "print(m.className)\n",
    "print(m.showName())\n",
    "print(\"\\n\")\n",
    "\n",
    "h = Howitzer();\n",
    "print(h.className)\n",
    "print(h.rndMath)\n",
    "print(h.showName())\n",
    "print(\"\\n\")\n",
    "\n",
    "x = Howitzer();\n",
    "print(x.className)\n",
    "print(x.rndMath)\n",
    "print(x.showName(\"Blue\"))\n",
    "print(\"\\n\")\n",
    "\n",
    "c = Cannon();\n",
    "print(c.className)\n",
    "print(c.showName())\n",
    "print(\"\\n\")"
   ]
  },
  {
   "cell_type": "code",
   "execution_count": null,
   "metadata": {},
   "outputs": [],
   "source": []
  }
 ],
 "metadata": {
  "kernelspec": {
   "display_name": "Python 3",
   "language": "python",
   "name": "python3"
  },
  "language_info": {
   "codemirror_mode": {
    "name": "ipython",
    "version": 3
   },
   "file_extension": ".py",
   "mimetype": "text/x-python",
   "name": "python",
   "nbconvert_exporter": "python",
   "pygments_lexer": "ipython3",
   "version": "3.6.7"
  }
 },
 "nbformat": 4,
 "nbformat_minor": 2
}
